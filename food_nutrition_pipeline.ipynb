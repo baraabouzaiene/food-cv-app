{
  "nbformat": 4,
  "nbformat_minor": 0,
  "metadata": {
    "colab": {
      "provenance": [],
      "authorship_tag": "ABX9TyMxcPBkaspKy/RV3rOVKUuV",
      "include_colab_link": true
    },
    "kernelspec": {
      "name": "python3",
      "display_name": "Python 3"
    },
    "language_info": {
      "name": "python"
    }
  },
  "cells": [
    {
      "cell_type": "markdown",
      "metadata": {
        "id": "view-in-github",
        "colab_type": "text"
      },
      "source": [
        "<a href=\"https://colab.research.google.com/github/baraabouzaiene/food-cv-app/blob/main/food_nutrition_pipeline.ipynb\" target=\"_parent\"><img src=\"https://colab.research.google.com/assets/colab-badge.svg\" alt=\"Open In Colab\"/></a>"
      ]
    },
    {
      "cell_type": "markdown",
      "source": [
        "\n",
        "# COMPLETE FOOD NUTRITION PIPELINE\n"
      ],
      "metadata": {
        "id": "80GqvQ__stsm"
      }
    },
    {
      "cell_type": "code",
      "source": [
        "\n",
        "from google.colab import drive\n",
        "drive.mount('/content/drive')\n",
        "\n",
        "import torch\n",
        "import torch.nn as nn\n",
        "import torchvision.models as models\n",
        "from torchvision import transforms\n",
        "from PIL import Image\n",
        "import requests\n",
        "import json\n",
        "import numpy as np\n"
      ],
      "metadata": {
        "colab": {
          "base_uri": "https://localhost:8080/"
        },
        "id": "TnqMGgQ8s43E",
        "outputId": "0e95b353-a865-4b41-a1b4-eb422c113b75"
      },
      "execution_count": null,
      "outputs": [
        {
          "output_type": "stream",
          "name": "stdout",
          "text": [
            "Drive already mounted at /content/drive; to attempt to forcibly remount, call drive.mount(\"/content/drive\", force_remount=True).\n"
          ]
        }
      ]
    },
    {
      "cell_type": "markdown",
      "source": [
        "# 1. LOAD YOUR TRAINED MODEL"
      ],
      "metadata": {
        "id": "pO16Ibjp3aHY"
      }
    },
    {
      "cell_type": "code",
      "execution_count": null,
      "metadata": {
        "colab": {
          "base_uri": "https://localhost:8080/"
        },
        "id": "WGPFw3OQ8NPE",
        "outputId": "db543fc1-f462-4629-944f-23c9d754f627"
      },
      "outputs": [
        {
          "output_type": "stream",
          "name": "stdout",
          "text": [
            "✅ Model loaded from: /content/drive/MyDrive/vgg16_food101.pth\n",
            "✅ Device: cpu\n"
          ]
        }
      ],
      "source": [
        "device = torch.device('cuda' if torch.cuda.is_available() else 'cpu')\n",
        "\n",
        "# Load model directly (not wrapped in a class)\n",
        "vgg16_model = models.vgg16(pretrained=False)\n",
        "vgg16_model.classifier[6] = torch.nn.Linear(4096, 101)\n",
        "\n",
        "# Load your trained weights\n",
        "model_path = '/content/drive/MyDrive/vgg16_food101.pth'\n",
        "vgg16_model.load_state_dict(torch.load(model_path, map_location=device))\n",
        "vgg16_model = vgg16_model.to(device)\n",
        "vgg16_model.eval()\n",
        "\n",
        "print(f\"✅ Model loaded from: {model_path}\")\n",
        "print(f\"✅ Device: {device}\")\n"
      ]
    },
    {
      "cell_type": "markdown",
      "source": [
        "# 2. PREPROCESSING & CLASSIFICATION\n"
      ],
      "metadata": {
        "id": "YkJyTL1l3m3v"
      }
    },
    {
      "cell_type": "code",
      "source": [
        "print(\"\\n📸 Setting up classification...\")\n",
        "\n",
        "# Same preprocessing as training\n",
        "transform = transforms.Compose([\n",
        "    transforms.Resize((224, 224)),\n",
        "    transforms.ToTensor(),\n",
        "    transforms.Normalize(mean=[0.485, 0.456, 0.406], std=[0.229, 0.224, 0.225])\n",
        "])\n",
        "\n",
        "# Food-101 class names (alphabetical order)\n",
        "FOOD_101_CLASSES = [\n",
        "    'apple_pie', 'baby_back_ribs', 'baklava', 'beef_carpaccio', 'beef_tartare',\n",
        "    'beet_salad', 'beignets', 'bibimbap', 'bread_pudding', 'breakfast_burrito',\n",
        "    'bruschetta', 'caesar_salad', 'cannoli', 'caprese_salad', 'carrot_cake',\n",
        "    'ceviche', 'cheese_plate', 'cheesecake', 'chicken_curry', 'chicken_quesadilla',\n",
        "    'chicken_wings', 'chocolate_cake', 'chocolate_mousse', 'churros', 'clam_chowder',\n",
        "    'club_sandwich', 'crab_cakes', 'creme_brulee', 'croque_madame', 'cup_cakes',\n",
        "    'deviled_eggs', 'donuts', 'dumplings', 'edamame', 'eggs_benedict',\n",
        "    'escargots', 'falafel', 'filet_mignon', 'fish_and_chips', 'foie_gras',\n",
        "    'french_fries', 'french_onion_soup', 'french_toast', 'fried_calamari', 'fried_rice',\n",
        "    'frozen_yogurt', 'garlic_bread', 'gnocchi', 'greek_salad', 'grilled_cheese_sandwich',\n",
        "    'grilled_salmon', 'guacamole', 'gyoza', 'hamburger', 'hot_and_sour_soup',\n",
        "    'hot_dog', 'huevos_rancheros', 'hummus', 'ice_cream', 'lasagna',\n",
        "    'lobster_bisque', 'lobster_roll_sandwich', 'macaroni_and_cheese', 'macarons', 'miso_soup',\n",
        "    'mussels', 'nachos', 'omelette', 'onion_rings', 'oysters',\n",
        "    'pad_thai', 'paella', 'pancakes', 'panna_cotta', 'peking_duck',\n",
        "    'pho', 'pizza', 'pork_chop', 'poutine', 'prime_rib',\n",
        "    'pulled_pork_sandwich', 'ramen', 'ravioli', 'red_velvet_cake', 'risotto',\n",
        "    'samosa', 'sashimi', 'scallops', 'seaweed_salad', 'shrimp_and_grits',\n",
        "    'spaghetti_bolognese', 'spaghetti_carbonara', 'spring_rolls', 'steak', 'strawberry_shortcake',\n",
        "    'sushi', 'tacos', 'takoyaki', 'tiramisu', 'tuna_tartare', 'waffles'\n",
        "]\n",
        "\n",
        "def classify_food(image_path, model):\n",
        "    \"\"\"Classify food using trained VGG16\"\"\"\n",
        "    image = Image.open(image_path).convert('RGB')\n",
        "    image_tensor = transform(image).unsqueeze(0).to(device)\n",
        "\n",
        "    with torch.no_grad():\n",
        "        outputs = model(image_tensor)\n",
        "        probabilities = torch.nn.functional.softmax(outputs, dim=1)\n",
        "        confidence, predicted_idx = torch.max(probabilities, 1)\n",
        "\n",
        "    food_class = FOOD_101_CLASSES[predicted_idx.item()]\n",
        "    confidence_score = confidence.item() * 100\n",
        "\n",
        "    return food_class, confidence_score\n",
        "\n",
        "print(\"✅ Classification ready!\")\n"
      ],
      "metadata": {
        "colab": {
          "base_uri": "https://localhost:8080/"
        },
        "id": "yWlRgxRN3plP",
        "outputId": "92a74ad5-f3a1-426c-9d68-528fbf4a64bc"
      },
      "execution_count": null,
      "outputs": [
        {
          "output_type": "stream",
          "name": "stdout",
          "text": [
            "\n",
            "📸 Setting up classification...\n",
            "✅ Classification ready!\n"
          ]
        }
      ]
    },
    {
      "cell_type": "markdown",
      "source": [
        "# 3. NUTRITION API WITH FALLBACK\n"
      ],
      "metadata": {
        "id": "O8e-8vXP4Ele"
      }
    },
    {
      "cell_type": "code",
      "source": [
        "print(\"\\n🍎 Setting up nutrition API...\")\n",
        "\n",
        "USDA_API_KEY = \"jJ4rbDZEmPdOkJmfs4eORBf5oZ4FbnULweay0ZK3\"\n",
        "USDA_BASE_URL = \"https://api.nal.usda.gov/fdc/v1\"\n",
        "\n",
        "# Local fallback database\n",
        "LOCAL_NUTRITION_DB = {\n",
        "    'pizza': {'calories': 266, 'protein': 11, 'carbs': 33, 'fats': 10},\n",
        "    'hamburger': {'calories': 295, 'protein': 17, 'carbs': 28, 'fats': 14},\n",
        "    'donuts': {'calories': 452, 'protein': 5, 'carbs': 51, 'fats': 25},\n",
        "    'apple_pie': {'calories': 237, 'protein': 2, 'carbs': 34, 'fats': 11},\n",
        "    'sushi': {'calories': 143, 'protein': 6, 'carbs': 21, 'fats': 3.5},\n",
        "    'chocolate_cake': {'calories': 371, 'protein': 5, 'carbs': 50, 'fats': 17},\n",
        "    'french_fries': {'calories': 312, 'protein': 3.4, 'carbs': 41, 'fats': 15},\n",
        "    'ice_cream': {'calories': 207, 'protein': 3.5, 'carbs': 24, 'fats': 11},\n",
        "    'steak': {'calories': 271, 'protein': 25, 'carbs': 0, 'fats': 19},\n",
        "    'caesar_salad': {'calories': 190, 'protein': 7, 'carbs': 10, 'fats': 14},\n",
        "}\n",
        "\n",
        "def get_nutrition_with_fallback(food_name):\n",
        "    \"\"\"Get nutrition from USDA API with local fallback\"\"\"\n",
        "    # Try API first\n",
        "    try:\n",
        "        search_url = f\"{USDA_BASE_URL}/foods/search\"\n",
        "        params = {'api_key': USDA_API_KEY, 'query': food_name, 'pageSize': 1}\n",
        "        response = requests.get(search_url, params=params, timeout=5)\n",
        "        data = response.json()\n",
        "\n",
        "        if data.get('foods'):\n",
        "            food_item = data['foods'][0]\n",
        "            nutrients = {'calories': 0, 'protein': 0, 'carbs': 0, 'fats': 0}\n",
        "\n",
        "            for nutrient in food_item.get('foodNutrients', []):\n",
        "                name = nutrient.get('nutrientName', '').lower()\n",
        "                value = nutrient.get('value', 0)\n",
        "\n",
        "                if 'energy' in name:\n",
        "                    nutrients['calories'] = round(value, 1)\n",
        "                elif 'protein' in name and 'amino' not in name:\n",
        "                    nutrients['protein'] = round(value, 1)\n",
        "                elif 'carbohydrate' in name:\n",
        "                    nutrients['carbs'] = round(value, 1)\n",
        "                elif 'total lipid' in name:\n",
        "                    nutrients['fats'] = round(value, 1)\n",
        "\n",
        "            if nutrients['calories'] > 0:\n",
        "                return nutrients, 'api'\n",
        "    except:\n",
        "        pass\n",
        "\n",
        "    # Fallback to local database\n",
        "    food_key = food_name.replace(' ', '_')\n",
        "    nutrition = LOCAL_NUTRITION_DB.get(food_key, {'calories': 200, 'protein': 5, 'carbs': 25, 'fats': 8})\n",
        "    return nutrition, 'local'\n",
        "\n",
        "print(\" Nutrition API ready!\")\n",
        "\n"
      ],
      "metadata": {
        "colab": {
          "base_uri": "https://localhost:8080/"
        },
        "id": "PYqeNJVJ4kqc",
        "outputId": "b0e782c2-a457-4b3a-ed0e-a5d8746b8f5a"
      },
      "execution_count": null,
      "outputs": [
        {
          "output_type": "stream",
          "name": "stdout",
          "text": [
            "\n",
            "🍎 Setting up nutrition API...\n",
            " Nutrition API ready!\n"
          ]
        }
      ]
    },
    {
      "cell_type": "markdown",
      "source": [
        "# 4. COMPLETE PIPELINE\n"
      ],
      "metadata": {
        "id": "qL77-gas4t9E"
      }
    },
    {
      "cell_type": "code",
      "source": [
        "print(\"\\n Complete pipeline ready!\\n\")\n",
        "\n",
        "def analyze_food_complete(image_path):\n",
        "\n",
        "\n",
        "    # Step 1: Classify food\n",
        "    print(\"\\n1️⃣  Classifying food...\")\n",
        "    food_name, confidence = classify_food(image_path, vgg16_model)\n",
        "    print(f\"   ✅ Detected: {food_name}\")\n",
        "    print(f\"   📊 Confidence: {confidence:.1f}%\")\n",
        "\n",
        "    # Step 2: Get nutrition data\n",
        "    print(\"\\n2️⃣  Fetching nutrition data...\")\n",
        "    nutrition, source = get_nutrition_with_fallback(food_name)\n",
        "    if source == 'api':\n",
        "        print(f\"   ✅ Retrieved from USDA API\")\n",
        "    else:\n",
        "        print(f\"   📚 Using local database\")\n",
        "\n",
        "    # Step 3: Estimate portion (default 100g for now)\n",
        "    portion_grams = 100\n",
        "    print(f\"\\n3️⃣  Portion size: {portion_grams}g (standard serving)\")\n",
        "\n",
        "    # Step 4: Compile results\n",
        "    result = {\n",
        "        'food_name': food_name,\n",
        "        'confidence': round(confidence, 2),\n",
        "        'portion_grams': portion_grams,\n",
        "        'calories': nutrition['calories'],\n",
        "        'protein': nutrition['protein'],\n",
        "        'carbs': nutrition['carbs'],\n",
        "        'fats': nutrition['fats'],\n",
        "        'data_source': source\n",
        "    }\n",
        "\n",
        "    # Display results\n",
        "    print(\"📊 NUTRITION RESULTS\")\n",
        "    print(f\"Food:       {result['food_name']}\")\n",
        "    print(f\"Confidence: {result['confidence']}%\")\n",
        "    print(f\"Portion:    {result['portion_grams']}g\")\n",
        "    print(f\"\\n🥗 Nutritional Content:\")\n",
        "    print(f\"   Calories:  {result['calories']} kcal\")\n",
        "    print(f\"   Protein:   {result['protein']}g\")\n",
        "    print(f\"   Carbs:     {result['carbs']}g\")\n",
        "    print(f\"   Fats:      {result['fats']}g\")\n",
        "    print(f\"\\n📡 Data source: {result['data_source'].upper()}\")\n",
        "    print(\"=\"*60)\n",
        "\n",
        "    return result\n",
        "\n",
        "\n"
      ],
      "metadata": {
        "colab": {
          "base_uri": "https://localhost:8080/"
        },
        "id": "E4cV5vzq4uOM",
        "outputId": "e924ed12-7fd8-4df4-9910-ccf4663ff9e8"
      },
      "execution_count": null,
      "outputs": [
        {
          "output_type": "stream",
          "name": "stdout",
          "text": [
            "\n",
            " Complete pipeline ready!\n",
            "\n",
            " ALL SYSTEMS READY!\n",
            "\n",
            "1️⃣  Classifying food...\n",
            "   ✅ Detected: apple_pie\n",
            "   📊 Confidence: 49.2%\n",
            "\n",
            "2️⃣  Fetching nutrition data...\n",
            "   📚 Using local database\n",
            "\n",
            "3️⃣  Portion size: 100g (standard serving)\n",
            "📊 NUTRITION RESULTS\n",
            "Food:       apple_pie\n",
            "Confidence: 49.23%\n",
            "Portion:    100g\n",
            "\n",
            "🥗 Nutritional Content:\n",
            "   Calories:  237 kcal\n",
            "   Protein:   2g\n",
            "   Carbs:     34g\n",
            "   Fats:      11g\n",
            "\n",
            "📡 Data source: LOCAL\n",
            "============================================================\n",
            "\n",
            "1️⃣  Classifying food...\n",
            "   ✅ Detected: donuts\n",
            "   📊 Confidence: 60.9%\n",
            "\n",
            "2️⃣  Fetching nutrition data...\n",
            "   ✅ Retrieved from USDA API\n",
            "\n",
            "3️⃣  Portion size: 100g (standard serving)\n",
            "📊 NUTRITION RESULTS\n",
            "Food:       donuts\n",
            "Confidence: 60.88%\n",
            "Portion:    100g\n",
            "\n",
            "🥗 Nutritional Content:\n",
            "   Calories:  404 kcal\n",
            "   Protein:   3.5g\n",
            "   Carbs:     61.4g\n",
            "   Fats:      17.5g\n",
            "\n",
            "📡 Data source: API\n",
            "============================================================\n"
          ]
        }
      ]
    },
    {
      "cell_type": "markdown",
      "source": [
        " ## testing\n"
      ],
      "metadata": {
        "id": "-UG5xZu8Klae"
      }
    },
    {
      "cell_type": "code",
      "source": [
        "\n",
        "result = analyze_food_complete('/content/cookies1.png')\n",
        "result2 = analyze_food_complete('/content/donuts.png')\n",
        "\n",
        "# Show result as JSON (for Django)\n",
        "print(\"\\n📱 JSON Output for API:\")\n",
        "print(json.dumps(result, indent=2))\n",
        "print(json.dumps(result2, indent=2))"
      ],
      "metadata": {
        "colab": {
          "base_uri": "https://localhost:8080/"
        },
        "id": "qdad0gmgKlFf",
        "outputId": "26995011-49da-43fe-836d-d5b0f911a5a8"
      },
      "execution_count": null,
      "outputs": [
        {
          "output_type": "stream",
          "name": "stdout",
          "text": [
            "\n",
            "1️⃣  Classifying food...\n",
            "   ✅ Detected: apple_pie\n",
            "   📊 Confidence: 49.2%\n",
            "\n",
            "2️⃣  Fetching nutrition data...\n",
            "   📚 Using local database\n",
            "\n",
            "3️⃣  Portion size: 100g (standard serving)\n",
            "📊 NUTRITION RESULTS\n",
            "Food:       apple_pie\n",
            "Confidence: 49.23%\n",
            "Portion:    100g\n",
            "\n",
            "🥗 Nutritional Content:\n",
            "   Calories:  237 kcal\n",
            "   Protein:   2g\n",
            "   Carbs:     34g\n",
            "   Fats:      11g\n",
            "\n",
            "📡 Data source: LOCAL\n",
            "============================================================\n",
            "\n",
            "1️⃣  Classifying food...\n",
            "   ✅ Detected: donuts\n",
            "   📊 Confidence: 60.9%\n",
            "\n",
            "2️⃣  Fetching nutrition data...\n",
            "   ✅ Retrieved from USDA API\n",
            "\n",
            "3️⃣  Portion size: 100g (standard serving)\n",
            "📊 NUTRITION RESULTS\n",
            "Food:       donuts\n",
            "Confidence: 60.88%\n",
            "Portion:    100g\n",
            "\n",
            "🥗 Nutritional Content:\n",
            "   Calories:  404 kcal\n",
            "   Protein:   3.5g\n",
            "   Carbs:     61.4g\n",
            "   Fats:      17.5g\n",
            "\n",
            "📡 Data source: API\n",
            "============================================================\n",
            "\n",
            "📱 JSON Output for API:\n",
            "{\n",
            "  \"food_name\": \"apple_pie\",\n",
            "  \"confidence\": 49.23,\n",
            "  \"portion_grams\": 100,\n",
            "  \"calories\": 237,\n",
            "  \"protein\": 2,\n",
            "  \"carbs\": 34,\n",
            "  \"fats\": 11,\n",
            "  \"data_source\": \"local\"\n",
            "}\n",
            "{\n",
            "  \"food_name\": \"donuts\",\n",
            "  \"confidence\": 60.88,\n",
            "  \"portion_grams\": 100,\n",
            "  \"calories\": 404,\n",
            "  \"protein\": 3.5,\n",
            "  \"carbs\": 61.4,\n",
            "  \"fats\": 17.5,\n",
            "  \"data_source\": \"api\"\n",
            "}\n"
          ]
        }
      ]
    },
    {
      "cell_type": "markdown",
      "source": [
        "# EXPORT FOR DJANGO BACKEND\n"
      ],
      "metadata": {
        "id": "zT2Yw7FBTRnP"
      }
    },
    {
      "cell_type": "code",
      "source": [
        "print(\" EXPORTING FILES FOR DJANGO\")\n",
        "\n",
        "# 1. Export model to ONNX\n",
        "print(\"\\n   Converting model to ONNX...\")\n",
        "dummy_input = torch.randn(1, 3, 224, 224).to(device)\n",
        "\n",
        "torch.onnx.export(\n",
        "    vgg16_model,\n",
        "    dummy_input,\n",
        "    \"vgg16_food101.onnx\",\n",
        "    export_params=True,\n",
        "    opset_version=11,\n",
        "    do_constant_folding=True,\n",
        "    input_names=['input'],\n",
        "    output_names=['output'],\n",
        "    dynamic_axes={'input': {0: 'batch_size'}, 'output': {0: 'batch_size'}}\n",
        ")\n",
        "print(\"    vgg16_food101.onnx created\")\n",
        "\n",
        "# 2. Export class names\n",
        "print(\"\\n  Exporting class names...\")\n",
        "with open('class_names.json', 'w') as f:\n",
        "    json.dump(FOOD_101_CLASSES, f, indent=2)\n",
        "print(\"    class_names.json created\")\n",
        "\n",
        "# 3. Export nutrition database\n",
        "print(\"\\n  Exporting nutrition database...\")\n",
        "with open('nutrition_database.json', 'w') as f:\n",
        "    json.dump(LOCAL_NUTRITION_DB, f, indent=2)\n",
        "print(\"    nutrition_database.json created\")\n",
        "\n",
        "# 4. Download all files\n",
        "print(\"\\n  Downloading files...\")\n",
        "from google.colab import files\n",
        "files.download('vgg16_food101.onnx')\n",
        "files.download('class_names.json')\n",
        "files.download('nutrition_database.json')\n",
        "\n",
        "print(\" ALL FILES EXPORTED!\")\n",
        "print(\"\\n Downloaded files:\")\n",
        "print(\"   • vgg16_food101.onnx (ML model)\")\n",
        "print(\"   • class_names.json (101 food classes)\")\n",
        "print(\"   • nutrition_database.json (fallback nutrition data)\")\n",
        "print(\"\\n Ready for Django backend!\")"
      ],
      "metadata": {
        "colab": {
          "base_uri": "https://localhost:8080/",
          "height": 436
        },
        "id": "uZxugUnhTRAj",
        "outputId": "d80a8949-de68-479f-eb56-1288b4d85a44"
      },
      "execution_count": null,
      "outputs": [
        {
          "output_type": "stream",
          "name": "stdout",
          "text": [
            " EXPORTING FILES FOR DJANGO\n",
            "\n",
            "   Converting model to ONNX...\n"
          ]
        },
        {
          "output_type": "stream",
          "name": "stderr",
          "text": [
            "/tmp/ipython-input-2793508703.py:7: DeprecationWarning: You are using the legacy TorchScript-based ONNX export. Starting in PyTorch 2.9, the new torch.export-based ONNX exporter will be the default. To switch now, set dynamo=True in torch.onnx.export. This new exporter supports features like exporting LLMs with DynamicCache. We encourage you to try it and share feedback to help improve the experience. Learn more about the new export logic: https://pytorch.org/docs/stable/onnx_dynamo.html. For exporting control flow: https://pytorch.org/tutorials/beginner/onnx/export_control_flow_model_to_onnx_tutorial.html.\n",
            "  torch.onnx.export(\n"
          ]
        },
        {
          "output_type": "stream",
          "name": "stdout",
          "text": [
            "    vgg16_food101.onnx created\n",
            "\n",
            "  Exporting class names...\n",
            "    class_names.json created\n",
            "\n",
            "  Exporting nutrition database...\n",
            "    nutrition_database.json created\n",
            "\n",
            "  Downloading files...\n"
          ]
        },
        {
          "output_type": "display_data",
          "data": {
            "text/plain": [
              "<IPython.core.display.Javascript object>"
            ],
            "application/javascript": [
              "\n",
              "    async function download(id, filename, size) {\n",
              "      if (!google.colab.kernel.accessAllowed) {\n",
              "        return;\n",
              "      }\n",
              "      const div = document.createElement('div');\n",
              "      const label = document.createElement('label');\n",
              "      label.textContent = `Downloading \"${filename}\": `;\n",
              "      div.appendChild(label);\n",
              "      const progress = document.createElement('progress');\n",
              "      progress.max = size;\n",
              "      div.appendChild(progress);\n",
              "      document.body.appendChild(div);\n",
              "\n",
              "      const buffers = [];\n",
              "      let downloaded = 0;\n",
              "\n",
              "      const channel = await google.colab.kernel.comms.open(id);\n",
              "      // Send a message to notify the kernel that we're ready.\n",
              "      channel.send({})\n",
              "\n",
              "      for await (const message of channel.messages) {\n",
              "        // Send a message to notify the kernel that we're ready.\n",
              "        channel.send({})\n",
              "        if (message.buffers) {\n",
              "          for (const buffer of message.buffers) {\n",
              "            buffers.push(buffer);\n",
              "            downloaded += buffer.byteLength;\n",
              "            progress.value = downloaded;\n",
              "          }\n",
              "        }\n",
              "      }\n",
              "      const blob = new Blob(buffers, {type: 'application/binary'});\n",
              "      const a = document.createElement('a');\n",
              "      a.href = window.URL.createObjectURL(blob);\n",
              "      a.download = filename;\n",
              "      div.appendChild(a);\n",
              "      a.click();\n",
              "      div.remove();\n",
              "    }\n",
              "  "
            ]
          },
          "metadata": {}
        },
        {
          "output_type": "display_data",
          "data": {
            "text/plain": [
              "<IPython.core.display.Javascript object>"
            ],
            "application/javascript": [
              "download(\"download_83c53895-90ee-4463-afe7-c82c2fa53810\", \"vgg16_food101.onnx\", 538705257)"
            ]
          },
          "metadata": {}
        },
        {
          "output_type": "display_data",
          "data": {
            "text/plain": [
              "<IPython.core.display.Javascript object>"
            ],
            "application/javascript": [
              "\n",
              "    async function download(id, filename, size) {\n",
              "      if (!google.colab.kernel.accessAllowed) {\n",
              "        return;\n",
              "      }\n",
              "      const div = document.createElement('div');\n",
              "      const label = document.createElement('label');\n",
              "      label.textContent = `Downloading \"${filename}\": `;\n",
              "      div.appendChild(label);\n",
              "      const progress = document.createElement('progress');\n",
              "      progress.max = size;\n",
              "      div.appendChild(progress);\n",
              "      document.body.appendChild(div);\n",
              "\n",
              "      const buffers = [];\n",
              "      let downloaded = 0;\n",
              "\n",
              "      const channel = await google.colab.kernel.comms.open(id);\n",
              "      // Send a message to notify the kernel that we're ready.\n",
              "      channel.send({})\n",
              "\n",
              "      for await (const message of channel.messages) {\n",
              "        // Send a message to notify the kernel that we're ready.\n",
              "        channel.send({})\n",
              "        if (message.buffers) {\n",
              "          for (const buffer of message.buffers) {\n",
              "            buffers.push(buffer);\n",
              "            downloaded += buffer.byteLength;\n",
              "            progress.value = downloaded;\n",
              "          }\n",
              "        }\n",
              "      }\n",
              "      const blob = new Blob(buffers, {type: 'application/binary'});\n",
              "      const a = document.createElement('a');\n",
              "      a.href = window.URL.createObjectURL(blob);\n",
              "      a.download = filename;\n",
              "      div.appendChild(a);\n",
              "      a.click();\n",
              "      div.remove();\n",
              "    }\n",
              "  "
            ]
          },
          "metadata": {}
        },
        {
          "output_type": "display_data",
          "data": {
            "text/plain": [
              "<IPython.core.display.Javascript object>"
            ],
            "application/javascript": [
              "download(\"download_5e8c0978-c5a7-4e19-920e-f5db09c89ff0\", \"class_names.json\", 1691)"
            ]
          },
          "metadata": {}
        },
        {
          "output_type": "display_data",
          "data": {
            "text/plain": [
              "<IPython.core.display.Javascript object>"
            ],
            "application/javascript": [
              "\n",
              "    async function download(id, filename, size) {\n",
              "      if (!google.colab.kernel.accessAllowed) {\n",
              "        return;\n",
              "      }\n",
              "      const div = document.createElement('div');\n",
              "      const label = document.createElement('label');\n",
              "      label.textContent = `Downloading \"${filename}\": `;\n",
              "      div.appendChild(label);\n",
              "      const progress = document.createElement('progress');\n",
              "      progress.max = size;\n",
              "      div.appendChild(progress);\n",
              "      document.body.appendChild(div);\n",
              "\n",
              "      const buffers = [];\n",
              "      let downloaded = 0;\n",
              "\n",
              "      const channel = await google.colab.kernel.comms.open(id);\n",
              "      // Send a message to notify the kernel that we're ready.\n",
              "      channel.send({})\n",
              "\n",
              "      for await (const message of channel.messages) {\n",
              "        // Send a message to notify the kernel that we're ready.\n",
              "        channel.send({})\n",
              "        if (message.buffers) {\n",
              "          for (const buffer of message.buffers) {\n",
              "            buffers.push(buffer);\n",
              "            downloaded += buffer.byteLength;\n",
              "            progress.value = downloaded;\n",
              "          }\n",
              "        }\n",
              "      }\n",
              "      const blob = new Blob(buffers, {type: 'application/binary'});\n",
              "      const a = document.createElement('a');\n",
              "      a.href = window.URL.createObjectURL(blob);\n",
              "      a.download = filename;\n",
              "      div.appendChild(a);\n",
              "      a.click();\n",
              "      div.remove();\n",
              "    }\n",
              "  "
            ]
          },
          "metadata": {}
        },
        {
          "output_type": "display_data",
          "data": {
            "text/plain": [
              "<IPython.core.display.Javascript object>"
            ],
            "application/javascript": [
              "download(\"download_d6a6eccb-5e91-41e6-9139-444c3838cf22\", \"nutrition_database.json\", 935)"
            ]
          },
          "metadata": {}
        },
        {
          "output_type": "stream",
          "name": "stdout",
          "text": [
            " ALL FILES EXPORTED!\n",
            "\n",
            " Downloaded files:\n",
            "   • vgg16_food101.onnx (ML model)\n",
            "   • class_names.json (101 food classes)\n",
            "   • nutrition_database.json (fallback nutrition data)\n",
            "\n",
            " Ready for Django backend!\n"
          ]
        }
      ]
    },
    {
      "cell_type": "code",
      "metadata": {
        "colab": {
          "base_uri": "https://localhost:8080/"
        },
        "id": "d51e1c0f",
        "outputId": "887fe8c3-c8a3-4aff-e91c-2546d97fec61"
      },
      "source": [
        "!pip install onnx"
      ],
      "execution_count": null,
      "outputs": [
        {
          "output_type": "stream",
          "name": "stdout",
          "text": [
            "Collecting onnx\n",
            "  Downloading onnx-1.19.1-cp312-cp312-manylinux2014_x86_64.manylinux_2_17_x86_64.whl.metadata (7.0 kB)\n",
            "Requirement already satisfied: numpy>=1.22 in /usr/local/lib/python3.12/dist-packages (from onnx) (2.0.2)\n",
            "Requirement already satisfied: protobuf>=4.25.1 in /usr/local/lib/python3.12/dist-packages (from onnx) (5.29.5)\n",
            "Requirement already satisfied: typing_extensions>=4.7.1 in /usr/local/lib/python3.12/dist-packages (from onnx) (4.15.0)\n",
            "Requirement already satisfied: ml_dtypes>=0.5.0 in /usr/local/lib/python3.12/dist-packages (from onnx) (0.5.3)\n",
            "Downloading onnx-1.19.1-cp312-cp312-manylinux2014_x86_64.manylinux_2_17_x86_64.whl (18.2 MB)\n",
            "\u001b[2K   \u001b[90m━━━━━━━━━━━━━━━━━━━━━━━━━━━━━━━━━━━━━━━━\u001b[0m \u001b[32m18.2/18.2 MB\u001b[0m \u001b[31m59.2 MB/s\u001b[0m eta \u001b[36m0:00:00\u001b[0m\n",
            "\u001b[?25hInstalling collected packages: onnx\n",
            "Successfully installed onnx-1.19.1\n"
          ]
        }
      ]
    }
  ]
}